{
 "cells": [
  {
   "cell_type": "code",
   "execution_count": 93,
   "metadata": {},
   "outputs": [],
   "source": [
    "import nltk\n",
    "import sys\n",
    "from nltk.corpus import brown"
   ]
  },
  {
   "cell_type": "code",
   "execution_count": 94,
   "metadata": {
    "scrolled": true
   },
   "outputs": [],
   "source": [
    "# Modify the POS tags by using only the first two letters of a tag,\n",
    "# which represent the broad class of POS tags in the Brown corpus.\n",
    "# Also switch the order of word tag pairs to be tag word to conform\n",
    "# with transition and emission probabilities. Add a leading period\n",
    "# to give the first sentence in the corpus a starting transition\n",
    "# probability.\n",
    "tagged_corpus = [(\".\", \".\")]\n",
    "for sentence in brown.tagged_sents():\n",
    "    tagged_corpus.extend([(tag[:2], word.lower()) for (word, tag) in sentence])"
   ]
  },
  {
   "cell_type": "code",
   "execution_count": 95,
   "metadata": {},
   "outputs": [],
   "source": [
    "### Create the transition probability matrix \n",
    "## Transition probability: P(xt | x{t-1})\n",
    "pos_tags = [tag for (tag, word) in tagged_corpus]\n",
    "transition_cond_freq_dist = nltk.ConditionalFreqDist(nltk.bigrams(pos_tags))\n",
    "transition_matrix = nltk.ConditionalProbDist(transition_cond_freq_dist, nltk.MLEProbDist)"
   ]
  },
  {
   "cell_type": "code",
   "execution_count": 96,
   "metadata": {},
   "outputs": [],
   "source": [
    "### Create the emission probability matrix\n",
    "## Emission probability: P(yt | xt)\n",
    "emission_cond_freq_dist = nltk.ConditionalFreqDist(tagged_corpus)\n",
    "emission_matrix = nltk.ConditionalProbDist(emission_cond_freq_dist, nltk.MLEProbDist)"
   ]
  },
  {
   "cell_type": "code",
   "execution_count": 103,
   "metadata": {},
   "outputs": [
    {
     "name": "stdout",
     "output_type": "stream",
     "text": [
      "Sentence: \n",
      "I \n",
      "want \n",
      "to \n",
      "race \n",
      "\n",
      "\n",
      "POS tags: \n",
      "AB \n",
      "AB \n",
      "AB \n",
      "AB \n",
      ". \n",
      "\n",
      "\n",
      "Probability: 0.0\n"
     ]
    }
   ],
   "source": [
    "### Implement the Viterbi algorithm.\n",
    "# Algorithm set up\n",
    "distinct_tags = set(pos_tags)\n",
    "sentence = [\"I\", \"want\", \"to\", \"race\"]\n",
    "tag_probs = [{}]\n",
    "actual_tags = [{}]\n",
    "\n",
    "for tag in distinct_tags:\n",
    "    tag_probs[0][tag] = emission_matrix[\".\"].prob(tag) * emission_matrix[tag].prob(sentence[0])\n",
    "    actual_tags[0][tag] = None\n",
    "    \n",
    "for index in range(1, len(sentence)):\n",
    "    this_tag_prob = {}\n",
    "    this_actual_tag = {}\n",
    "    prev_tag_prob = tag_probs[-1]\n",
    "    \n",
    "    for tag in distinct_tags:\n",
    "        best_prev = max(prev_tag_prob.keys(), key = lambda prev_tag: \\\n",
    "                        prev_tag_prob[prev_tag] * transition_matrix[prev_tag].prob(tag) \\\n",
    "                       * emission_matrix[tag].prob(sentence[index]))\n",
    "        this_actual_tag[tag] = best_prev\n",
    "        this_tag_prob[tag] = prev_tag_prob[best_prev] * transition_matrix[best_prev].prob(tag) \\\n",
    "                             * emission_matrix[tag].prob(sentence[index])\n",
    "    \n",
    "    tag_probs.append(this_tag_prob)\n",
    "    actual_tags.append(this_actual_tag)\n",
    "\n",
    "prev_tag_prob = tag_probs[-1]\n",
    "best_prev = max(prev_tag_prob.keys(), key = lambda prev_tag: \\\n",
    "                prev_tag_prob[prev_tag] * transition_matrix[prev_tag].prob(\".\"))\n",
    "best_prob = prev_tag_prob[best_prev] * transition_matrix[best_prev].prob(\".\")\n",
    "best_tags = [\".\", best_prev]\n",
    "actual_tags.reverse()\n",
    "\n",
    "best_tag = best_prev\n",
    "for tag in actual_tags:\n",
    "    best_tags.append(tag[best_tag])\n",
    "    best_tag = tag[best_tag]\n",
    "    \n",
    "best_tags.reverse()\n",
    "\n",
    "print(\"Sentence: \")\n",
    "for word in sentence: \n",
    "    print(word + \" \")\n",
    "print(\"\\n\")\n",
    "print(\"POS tags: \")\n",
    "for tag in best_tags:\n",
    "    if tag:\n",
    "        print(tag + \" \")\n",
    "print(\"\\n\")\n",
    "print(\"Probability: \" + str(best_prob))\n",
    "    \n",
    "\n",
    "\n",
    "        \n",
    "    \n"
   ]
  },
  {
   "cell_type": "code",
   "execution_count": null,
   "metadata": {},
   "outputs": [],
   "source": [
    "2) Input sentence\n",
    "1) Forward viterbi\n",
    "3) range to include from brown corpus\n",
    "4) choose number of top pos tags per observation"
   ]
  },
  {
   "cell_type": "code",
   "execution_count": 85,
   "metadata": {},
   "outputs": [],
   "source": [
    "tags = []\n",
    "for word in brown.tagged_words():\n",
    "    tags.append(word[1][:2])"
   ]
  },
  {
   "cell_type": "code",
   "execution_count": 91,
   "metadata": {},
   "outputs": [
    {
     "data": {
      "text/plain": [
       "0.7061982094734398"
      ]
     },
     "execution_count": 91,
     "metadata": {},
     "output_type": "execute_result"
    }
   ],
   "source": [
    "emission_matrix[\"AT\"].prob(\"the\")"
   ]
  },
  {
   "cell_type": "code",
   "execution_count": 86,
   "metadata": {},
   "outputs": [
    {
     "data": {
      "text/plain": [
       "[('.', '.'),\n",
       " ('AT', 'the'),\n",
       " ('NP', 'fulton'),\n",
       " ('NN', 'county'),\n",
       " ('JJ', 'grand'),\n",
       " ('NN', 'jury'),\n",
       " ('VB', 'said'),\n",
       " ('NR', 'friday'),\n",
       " ('AT', 'an'),\n",
       " ('NN', 'investigation'),\n",
       " ('IN', 'of'),\n",
       " ('NP', \"atlanta's\"),\n",
       " ('JJ', 'recent'),\n",
       " ('NN', 'primary'),\n",
       " ('NN', 'election'),\n",
       " ('VB', 'produced'),\n",
       " ('``', '``'),\n",
       " ('AT', 'no'),\n",
       " ('NN', 'evidence'),\n",
       " (\"''\", \"''\"),\n",
       " ('CS', 'that'),\n",
       " ('DT', 'any'),\n",
       " ('NN', 'irregularities'),\n",
       " ('VB', 'took'),\n",
       " ('NN', 'place'),\n",
       " ('.', '.'),\n",
       " ('AT', 'the'),\n",
       " ('NN', 'jury'),\n",
       " ('RB', 'further'),\n",
       " ('VB', 'said'),\n",
       " ('IN', 'in'),\n",
       " ('NN', 'term-end'),\n",
       " ('NN', 'presentments'),\n",
       " ('CS', 'that'),\n",
       " ('AT', 'the'),\n",
       " ('NN', 'city'),\n",
       " ('JJ', 'executive'),\n",
       " ('NN', 'committee'),\n",
       " (',', ','),\n",
       " ('WD', 'which'),\n",
       " ('HV', 'had'),\n",
       " ('JJ', 'over-all'),\n",
       " ('NN', 'charge'),\n",
       " ('IN', 'of'),\n",
       " ('AT', 'the'),\n",
       " ('NN', 'election'),\n",
       " (',', ','),\n",
       " ('``', '``'),\n",
       " ('VB', 'deserves'),\n",
       " ('AT', 'the'),\n",
       " ('NN', 'praise'),\n",
       " ('CC', 'and'),\n",
       " ('NN', 'thanks'),\n",
       " ('IN', 'of'),\n",
       " ('AT', 'the'),\n",
       " ('NN', 'city'),\n",
       " ('IN', 'of'),\n",
       " ('NP', 'atlanta'),\n",
       " (\"''\", \"''\"),\n",
       " ('IN', 'for'),\n",
       " ('AT', 'the'),\n",
       " ('NN', 'manner'),\n",
       " ('IN', 'in'),\n",
       " ('WD', 'which'),\n",
       " ('AT', 'the'),\n",
       " ('NN', 'election'),\n",
       " ('BE', 'was'),\n",
       " ('VB', 'conducted'),\n",
       " ('.', '.'),\n",
       " ('AT', 'the'),\n",
       " ('NP', 'september-october'),\n",
       " ('NN', 'term'),\n",
       " ('NN', 'jury'),\n",
       " ('HV', 'had'),\n",
       " ('BE', 'been'),\n",
       " ('VB', 'charged'),\n",
       " ('IN', 'by'),\n",
       " ('NP', 'fulton'),\n",
       " ('JJ', 'superior'),\n",
       " ('NN', 'court'),\n",
       " ('NN', 'judge'),\n",
       " ('NP', 'durwood'),\n",
       " ('NP', 'pye'),\n",
       " ('TO', 'to'),\n",
       " ('VB', 'investigate'),\n",
       " ('NN', 'reports'),\n",
       " ('IN', 'of'),\n",
       " ('JJ', 'possible'),\n",
       " ('``', '``'),\n",
       " ('NN', 'irregularities'),\n",
       " (\"''\", \"''\"),\n",
       " ('IN', 'in'),\n",
       " ('AT', 'the'),\n",
       " ('JJ', 'hard-fought'),\n",
       " ('NN', 'primary'),\n",
       " ('WD', 'which'),\n",
       " ('BE', 'was'),\n",
       " ('VB', 'won'),\n",
       " ('IN', 'by'),\n",
       " ('NN', 'mayor-nominate')]"
      ]
     },
     "execution_count": 86,
     "metadata": {},
     "output_type": "execute_result"
    }
   ],
   "source": [
    "tagged_corpus[:100]"
   ]
  },
  {
   "cell_type": "code",
   "execution_count": null,
   "metadata": {},
   "outputs": [],
   "source": []
  }
 ],
 "metadata": {
  "kernelspec": {
   "display_name": "Python 3",
   "language": "python",
   "name": "python3"
  },
  "language_info": {
   "codemirror_mode": {
    "name": "ipython",
    "version": 3
   },
   "file_extension": ".py",
   "mimetype": "text/x-python",
   "name": "python",
   "nbconvert_exporter": "python",
   "pygments_lexer": "ipython3",
   "version": "3.7.4"
  }
 },
 "nbformat": 4,
 "nbformat_minor": 2
}
